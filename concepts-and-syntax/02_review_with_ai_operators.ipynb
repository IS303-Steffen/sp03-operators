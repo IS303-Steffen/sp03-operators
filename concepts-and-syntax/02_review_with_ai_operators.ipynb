{
 "cells": [
  {
   "cell_type": "markdown",
   "id": "12e47e2f",
   "metadata": {},
   "source": [
    "\n",
    "# Review with AI: Operators\n",
    "\n",
    "Use this notebook to deepen your understanding of operators in Python, including arithmetic, assignment, and comparison operators.\n",
    "\n",
    "### How to use this notebook:\n",
    "- **Copy and paste** the provided prompts and questions into your preferred AI tool (such as ChatGPT or Copilot).\n",
    "- **Check your understanding** by explaining concepts in your own words and having AI correct or clarify your explanations.\n",
    "- **Generate practice problems** using the suggested prompts and attempt solving them.\n"
   ]
  },
  {
   "cell_type": "markdown",
   "id": "bf2d4fb8",
   "metadata": {},
   "source": [
    "\n",
    "## AI Setup Prompt\n",
    "\n",
    "Start by pasting this prompt into your AI for clear, helpful responses:\n",
    "\n",
    "```\n",
    "I am a student in an introductory Python programming course. When I ask questions or describe concepts, respond as my personal tutor. Provide concise, clear explanations in simple language, gently correct my mistakes, and use relatable examples or metaphors. Let me know what I'm understanding well and what I might need to improve or clarify.\n",
    "```\n"
   ]
  },
  {
   "cell_type": "markdown",
   "id": "d3e0d9db",
   "metadata": {},
   "source": [
    "\n",
    "## Questions to Review Concepts\n",
    "\n",
    "Ask your AI tutor these questions to clarify and reinforce key concepts:\n",
    "\n",
    "- What's the difference between assigning a value to a variable (`=`) and checking for equality (`==`)? Why can't I use one for both?\n",
    "- What are the most important arithmetic operators in Python? Provide a simple example of each with a short explanation.\n",
    "- How do assignment operators like `+=` or `-=` work, and when would I typically use them?\n",
    "- What are comparison operators, and what kind of result do they give?\n"
   ]
  },
  {
   "cell_type": "markdown",
   "id": "e991cf8a",
   "metadata": {},
   "source": [
    "\n",
    "## Check Your Understanding\n",
    "\n",
    "Explain the following concepts in your own words to AI. Have it correct any misconceptions or clarify points you're unsure about:\n",
    "\n",
    "- The purpose of arithmetic operators (`+`, `-`, `*`, `/`, etc.).\n",
    "- How assignment operators (`=`, `+=`, `-=`) work.\n",
    "- The difference between assignment (`=`) and comparison operators (`==`, `!=`, `<`, `>`).\n"
   ]
  },
  {
   "cell_type": "markdown",
   "id": "546ea23d",
   "metadata": {},
   "source": [
    "\n",
    "## Generate Your Own Practice Questions\n",
    "\n",
    "Use the following prompt to create personalized practice problems with AI. Attempt to solve them, then let AI check your solutions:\n",
    "\n",
    "```\n",
    "I am a beginner Python student currently learning about arithmetic operators, assignment operators, and comparison operators. Please create two clear, simple practice problems for me—one focusing on arithmetic operators and another on using assignment operators. Provide only the problems without solutions. After attempting them, I'll show you my code to check my answers.\n",
    "```\n"
   ]
  }
 ],
 "metadata": {},
 "nbformat": 4,
 "nbformat_minor": 5
}

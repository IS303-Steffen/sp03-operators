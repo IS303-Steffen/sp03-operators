{
 "cells": [
  {
   "cell_type": "markdown",
   "id": "f8efab20",
   "metadata": {},
   "source": [
    "\n",
    "# Syntax & Concepts: Operators\n",
    "\n",
    "### Before Class:\n",
    "\n",
    "1. **Read this notebook and attempt each \"You Try\" section.**\n",
    "    - Need help? Check the AI tips or your textbook.\n",
    "\n",
    "2. **Complete at least one practice problem from this chapter.**\n",
    "    - Problems are ordered from easiest to hardest.\n",
    "    - Stuck? Copy and paste the instructions and AI prompt into your preferred AI service for guided help.\n",
    "\n",
    "3. **Submit your attempted practice problem code in the \"Class Prep Report\" on Learning Suite for credit.**\n",
    "\n",
    "#### Need more explanation? Copy and paste this AI prompt along with any code you have questions about:\n",
    "(Double-click the text below, then copy and paste it into your AI service.)\n",
    "\n",
    "```\n",
    "I am new to Python and just starting to learn coding. I need simple, clear explanations. When I ask a question or show my code, act like my personal tutor: correct mistakes gently, clarify misconceptions, and use easy-to-follow language. Feel free to use examples or metaphors to help me understand. Let me know when I'm doing well or what I need to adjust.\n",
    "```\n"
   ]
  },
  {
   "cell_type": "markdown",
   "id": "e818d154",
   "metadata": {},
   "source": [
    "\n",
    "### Chapter Summary\n",
    "In this chapter, you'll learn about operators in Python, including arithmetic operators for calculations, rounding numbers, assignment operators to update variables, and comparison operators to compare values. Understanding these operators is key to performing calculations and making decisions in your programs.\n"
   ]
  },
  {
   "cell_type": "markdown",
   "id": "ba6d3dee",
   "metadata": {},
   "source": [
    "\n",
    "## 1: Arithmetic Operators\n",
    "Arithmetic operators let you perform basic math calculations like addition, subtraction, multiplication, and division.\n"
   ]
  },
  {
   "cell_type": "code",
   "execution_count": null,
   "id": "88bc2296",
   "metadata": {},
   "outputs": [],
   "source": [
    "sum = 4 + 2\n",
    "product = 4 * 2\n",
    "print(sum, product)"
   ]
  },
  {
   "cell_type": "markdown",
   "id": "92524473",
   "metadata": {},
   "source": [
    "\n",
    "### 1.p: You Try\n",
    "Use arithmetic operators to calculate and print the difference (subtraction) and quotient (division) of any two numbers.\n"
   ]
  },
  {
   "cell_type": "code",
   "execution_count": null,
   "id": "cbdfd7e5",
   "metadata": {},
   "outputs": [],
   "source": [
    "# Your code here\n"
   ]
  },
  {
   "cell_type": "markdown",
   "id": "b7100a0e",
   "metadata": {},
   "source": [
    "\n",
    "## 2: Rounding Numbers\n",
    "The `round()` function lets you round numbers to a specified number of decimal places.\n"
   ]
  },
  {
   "cell_type": "code",
   "execution_count": null,
   "id": "1fe8e5ba",
   "metadata": {},
   "outputs": [],
   "source": [
    "price = 3.14159\n",
    "rounded_price = round(price, 2)\n",
    "print(rounded_price)"
   ]
  },
  {
   "cell_type": "markdown",
   "id": "fb356323",
   "metadata": {},
   "source": [
    "\n",
    "### 2.p: You Try\n",
    "Round a number of your choice to one decimal place and print the result.\n"
   ]
  },
  {
   "cell_type": "code",
   "execution_count": null,
   "id": "32f022cb",
   "metadata": {},
   "outputs": [],
   "source": [
    "# Your code here\n"
   ]
  },
  {
   "cell_type": "markdown",
   "id": "a69383d1",
   "metadata": {},
   "source": [
    "\n",
    "## 3: Assignment Operators\n",
    "Assignment operators let you update a variable's value concisely.\n"
   ]
  },
  {
   "cell_type": "code",
   "execution_count": null,
   "id": "a9709a90",
   "metadata": {},
   "outputs": [],
   "source": [
    "total = 10\n",
    "total += 5  # same as total = total + 5\n",
    "print(total)"
   ]
  },
  {
   "cell_type": "markdown",
   "id": "b2184e84",
   "metadata": {},
   "source": [
    "\n",
    "### 3.p: You Try\n",
    "Use an assignment operator to multiply a variable's value by 3, then print the updated value.\n"
   ]
  },
  {
   "cell_type": "code",
   "execution_count": null,
   "id": "73f2dc57",
   "metadata": {},
   "outputs": [],
   "source": [
    "# Your code here\n"
   ]
  },
  {
   "cell_type": "markdown",
   "id": "8d95a14c",
   "metadata": {},
   "source": [
    "\n",
    "## 4: Comparison Operators\n",
    "Comparison operators let you compare two values, returning `True` or `False`.\n"
   ]
  },
  {
   "cell_type": "code",
   "execution_count": null,
   "id": "4eddd24d",
   "metadata": {},
   "outputs": [],
   "source": [
    "print(10 > 5)  # True\n",
    "print(10 == 5) # False"
   ]
  },
  {
   "cell_type": "markdown",
   "id": "7315d1cd",
   "metadata": {},
   "source": [
    "\n",
    "### 4.p: You Try\n",
    "Write two comparisons of your own, one that returns `True` and one that returns `False`. Print each result.\n"
   ]
  },
  {
   "cell_type": "code",
   "execution_count": null,
   "id": "8ecd9085",
   "metadata": {},
   "outputs": [],
   "source": [
    "# Your code here\n"
   ]
  },
  {
   "cell_type": "markdown",
   "id": "0581f8de",
   "metadata": {},
   "source": [
    "\n",
    "## Want to Learn More?\n",
    "If you'd like extra help or more details, you can:\n",
    "- **Ask AI**: Use the suggested questions in the `review_with_ai` file.\n",
    "- **Read your textbook**: Check the reading guide on Learning Suite beforehand.\n",
    "- **Review class practice files**: They contain more detailed examples and explanations, available on Learning Suite.\n"
   ]
  }
 ],
 "metadata": {},
 "nbformat": 4,
 "nbformat_minor": 5
}
